from pytube import extract

from youtube_transcript_api import YouTubeTranscriptApi
video_id = "bcYwiwsDfGE"
transcript = YouTubeTranscriptApi.get_transcript(video_id)
transcript
